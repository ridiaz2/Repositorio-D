{
 "cells": [
  {
   "cell_type": "markdown",
   "metadata": {},
   "source": [
    "# <a id='0'></a> Resumen Programación Avanzada :D\n",
    "1. [Estructura de Datos: *built-ins*](#1)\n",
    "2. [Programación Funcional](#2)\n",
    "3. [Decoradores](#3)\n",
    "4. [Programación Orientada a Objetos 1](#4)\n",
    "5. [Programación Orientada a Objetos 2](#5)\n",
    "6. [Estructuras de Datos: Árboles y Listas Ligadas](#6)\n",
    "7. [Estructuras de Datos: Grafos](#7)\n",
    "8. [Excepciones y testing](#8)\n",
    "9. [Threading](#9)\n",
    "10. [Interfaces Gráficas](#10)\n",
    "11. [Archivos y Bytes](#11)\n",
    "12. [Serialización](#12)\n",
    "13. [Networking](#13)\n",
    "14. [Regex y Webservices](#14)"
   ]
  },
  {
   "cell_type": "markdown",
   "metadata": {},
   "source": [
    "# <a id='1'></a> Semana 1 - Estructuras de Datos: *built-ins* [<<](#0) [<](#0) [>](#2)"
   ]
  },
  {
   "cell_type": "markdown",
   "metadata": {},
   "source": [
    "# Introducción\n",
    "* Se pueden agregar atributos a una clase vacía, pero no es buena práctica, ya que ocupa memoria :D\n"
   ]
  },
  {
   "cell_type": "markdown",
   "metadata": {},
   "source": [
    "## Estructuras basadas en arreglos\n",
    "### Tuplas (`tuple`)\n",
    "* Manejan datos de manera **ordenada** e **inmutable** (no se pueden cambiar, agregar o quitar elementos).\n",
    "* Pueden poseer datos **heterogéneos** (distintos tipos)\n",
    "\n",
    "        tupla_vacia = tuple()\n",
    "        tupla_numeros = (1, 2, 3)\n",
    "        tupla_1 = (1, ) # para sea una tupla, se necesita agregar ese coma\n",
    "        tupla_no_parentesis = 1, 2, \"tres\n",
    "        \n",
    "* Si se intenta cambiar algún elemento por otro, dará `TypeError`.\n",
    "* Sin embargo, sí se puede modificar un elemento que ya está en la tupla:"
   ]
  },
  {
   "cell_type": "code",
   "execution_count": 3,
   "metadata": {},
   "outputs": [
    {
     "data": {
      "text/plain": [
       "(['hola', 'bien y tú?'], ['cómo estás?', 'bien también :D'])"
      ]
     },
     "execution_count": 3,
     "metadata": {},
     "output_type": "execute_result"
    }
   ],
   "source": [
    "tupla = ([\"hola\"], [\"cómo estás?\"])\n",
    "tupla[0].append(\"bien y tú?\")\n",
    "tupla[1].extend([\"bien también :D\"])\n",
    "tupla"
   ]
  },
  {
   "cell_type": "markdown",
   "metadata": {},
   "source": [
    "### Named tuples (`collections.namedtuple`)\n",
    "* Es como crear una clase, pero en una tupla (sin métodos).\n",
    "* Primero necesita inicialización (seria como el *__init__*):\n",
    "        \n",
    "        NombreClase = namedtuple(\"Tipo\", [\"atributo_1\", \"atributo_2\"])\n",
    "\n",
    "* Luego, podemos crear una clase, y llamar a esos atributos como si fueran una instancia:"
   ]
  },
  {
   "cell_type": "code",
   "execution_count": 6,
   "metadata": {},
   "outputs": [
    {
     "name": "stdout",
     "output_type": "stream",
     "text": [
      "123456789-0\n",
      "938293729-0\n",
      "<class '__main__.Registro_tipo'>\n"
     ]
    }
   ],
   "source": [
    "from collections import namedtuple\n",
    "\n",
    "Registra3 = namedtuple(\"Registro_tipo\", [\"RUT\", \"nombre\", \"edad\"])\n",
    "\n",
    "c1 = Registra3(\"123456789-0\", \"Juandroñ\", \"20\")\n",
    "c2 = Registra3(\"938293729-0\", \"Pedruanñ\", \"28\")\n",
    "\n",
    "print(c1.RUT)\n",
    "print(c2.RUT)\n",
    "print(type(c2))"
   ]
  },
  {
   "cell_type": "markdown",
   "metadata": {},
   "source": [
    "### Listas (`list`)\n",
    "* Datos de forma **ordenada** y **mutable** (se pueden agregar, sacar o modificar elementos).\n",
    "* Es más común ver datos **homogéneos** (del mismo tipo) en las listas, también pueden ser **heterogéneas** (distintas).\n",
    "* Se pueden ordenar con método `sort()`:"
   ]
  },
  {
   "cell_type": "code",
   "execution_count": 9,
   "metadata": {},
   "outputs": [
    {
     "name": "stdout",
     "output_type": "stream",
     "text": [
      "[1, 3, 4, 8]\n",
      "[8, 4, 3, 1]\n"
     ]
    }
   ],
   "source": [
    "hola = [1, 4, 8, 3]\n",
    "hola.sort() #ascendente, menor a mayor\n",
    "print(hola)\n",
    "hola.sort(reverse=True) #descendiente, mayor a menor\n",
    "print(hola)"
   ]
  },
  {
   "cell_type": "markdown",
   "metadata": {},
   "source": [
    "### Stacks (o pila)\n",
    "* Funciona como una pila de objetos (como apilando platos).\n",
    "* Tiene dos operaciones básicas:\n",
    "    * **_Push_**: Agrega elemento al final.\n",
    "    * **_Pop_**: Elimina elemento del final.\n",
    "    * Extra: **_Peek_**: Ve el último elemento sin sacarlo.\n",
    "* Es de tipo **Last In, First Out**. (el último en entrar, es el primero en salir :D).\n",
    "* Un *stack* en *Python* se maneja a partir de *Listas*."
   ]
  },
  {
   "cell_type": "markdown",
   "metadata": {},
   "source": [
    "### Colas (queues) (`collections.deque`)\n",
    "* Es como lo que comunmente se le llama a cola, o fila.\n",
    "* Es de tipo **First In, First Out** (el primero en llegar, es el primero en salir (o ser atendido)).\n",
    "* Tiene dos operaciones principales:\n",
    "    * **_Enqueue_**: Agrega elemento al final.\n",
    "    * **_Dequeue_**: Saca el elemento que está al inicio (el que llevará más tiempo).\n",
    "    * Extra: **_Peek_**: Ve el primer elemento sin sacarlo.\n",
    "* Implementar una cola con *Listas* no es muy recomendable, ya que hacer **dequeue** con `pop(0)`, **no es eficiente** (todos los elementos se desplazan a la izquierda).\n",
    "* En python se puede ocupar `deque` del módulo `collections`.\n",
    "\n",
    "        cola = deque()\n",
    "        cola_valores = deque([lista])\n",
    "        cola.popleft() # hace dequeue "
   ]
  },
  {
   "cell_type": "markdown",
   "metadata": {},
   "source": [
    "### Colas de doble extremo (Deque) (cola + stack).\n",
    "* Ocupamos `deque` de `collections`.\n",
    "* Agregamos:"
   ]
  },
  {
   "cell_type": "code",
   "execution_count": 14,
   "metadata": {},
   "outputs": [
    {
     "name": "stdout",
     "output_type": "stream",
     "text": [
      "deque([1, 2, 3])\n",
      "deque([0, 1, 2, 3])\n",
      "deque([1, 2, 3])\n",
      "deque([])\n"
     ]
    }
   ],
   "source": [
    "from collections import deque\n",
    "cola = deque([1, 2, 3])\n",
    "print(cola)\n",
    "cola.appendleft(0)\n",
    "print(cola)\n",
    "cola.popleft()\n",
    "print(cola)\n",
    "cola.clear()\n",
    "print(cola)"
   ]
  },
  {
   "cell_type": "markdown",
   "metadata": {},
   "source": [
    "* Deque puede leer elementos del centro, sin embargo, no es tan eficiente como las listas :D\n",
    "* También existe **rotate()** que cambia *n* últimos elementos al principio."
   ]
  },
  {
   "cell_type": "code",
   "execution_count": 18,
   "metadata": {},
   "outputs": [
    {
     "name": "stdout",
     "output_type": "stream",
     "text": [
      "deque([5, 6, 7, 8, 1, 2, 3, 4])\n"
     ]
    }
   ],
   "source": [
    "cola = deque([1, 2, 3, 4, 5, 6, 7, 8])\n",
    "cola.rotate(4)\n",
    "print(cola)"
   ]
  },
  {
   "cell_type": "markdown",
   "metadata": {},
   "source": [
    "### Diccionarios\n",
    "* Datos de manera **ordenada** (a partir de Python 3.6) y **mutable**.\n",
    "* Los datos se enlazan mediante **llave-valor** (**_key-value_**).\n",
    "* Es **muy eficiente** (tiempo constante).\n",
    "* Utiliza estructura *tabla de hash* para saber en qué lugar guardar un valor.\n",
    "* Las llaves **deben ser únicas y hasheables**.\n",
    "    * **Permitido**: `int`, `str`, `tuple` (no mutables en general).\n",
    "    * **No permitidos**: `list` (mutables (?)).\n",
    "    * Nota: Si una `tupla` contiene una `lista` en su interior, entonces no es *hasheable*.\n",
    "* Los valores no tienen restricciones :D\n",
    "* Iterables:\n",
    "    * diccionario.values() --> valores\n",
    "    * diccionario.keys() --> llaves\n",
    "    * diccionario.items() --> tupla (llave, valor)"
   ]
  },
  {
   "cell_type": "code",
   "execution_count": 26,
   "metadata": {},
   "outputs": [
    {
     "name": "stdout",
     "output_type": "stream",
     "text": [
      "Peso\n",
      "No tiene registro por ahora\n",
      "Real\n"
     ]
    },
    {
     "data": {
      "text/plain": [
       "{'Brasil': 'Real',\n",
       " 'Chile': 'Peso',\n",
       " 'España': 'Euro',\n",
       " 'Holanda': 'Euro',\n",
       " 'Perú': 'Soles'}"
      ]
     },
     "execution_count": 26,
     "metadata": {},
     "output_type": "execute_result"
    }
   ],
   "source": [
    "monedas = {\"Chile\": \"Peso\", \"Perú\": \"Soles\", \"España\": \"Euro\", \n",
    "           \"Holanda\": \"Euro\", \"Brasil\": \"Real\", 1: \"Hola\"}\n",
    "\n",
    "\n",
    "print(monedas[\"Chile\"])\n",
    "# print(monedas[\"Argentina\"]) ---> error porque no está la llave\n",
    "print(monedas.get(\"Argentina\", \"No tiene registro por ahora\"))\n",
    "print(monedas.get(\"Brasil\", \"No tiene registro por ahora\"))\n",
    "\n",
    "del monedas[1]\n",
    "monedas"
   ]
  },
  {
   "cell_type": "markdown",
   "metadata": {},
   "source": [
    "### Diccionario por defecto (`collections.defaultdict`)\n",
    "* Es un diccionario que tiene un valor por defecto (a partir de un callable) para cada llave que no exista aún, de esa manera no da error cuando no esté :D"
   ]
  },
  {
   "cell_type": "code",
   "execution_count": 29,
   "metadata": {},
   "outputs": [
    {
     "name": "stdout",
     "output_type": "stream",
     "text": [
      "defaultdict(<class 'int'>, {'A': 3, 'Ñ': 4})\n",
      "0\n"
     ]
    }
   ],
   "source": [
    "from collections import defaultdict\n",
    "letras = defaultdict(int) # 0 como default\n",
    "letras[\"A\"] = 3\n",
    "letras[\"Ñ\"] = 4\n",
    "print(letras)\n",
    "print(letras[\"Z\"])"
   ]
  },
  {
   "cell_type": "markdown",
   "metadata": {},
   "source": [
    "* Se puede crear un callable propio:"
   ]
  },
  {
   "cell_type": "code",
   "execution_count": 31,
   "metadata": {},
   "outputs": [
    {
     "name": "stdout",
     "output_type": "stream",
     "text": [
      "defaultdict(<function tres at 0x00FCC540>, {'A': 4, 'Ñ': 8})\n",
      "3\n"
     ]
    }
   ],
   "source": [
    "def tres():\n",
    "    return 3\n",
    "letras_3 = defaultdict(tres)\n",
    "letras_3[\"A\"] = 4\n",
    "letras_3[\"Ñ\"] = 8\n",
    "print(letras_3)\n",
    "print(letras_3[\"Z\"])"
   ]
  },
  {
   "cell_type": "markdown",
   "metadata": {},
   "source": [
    "### Sets (conjunto)\n",
    "* Son contenedores **mutables**, **no hasheables**, y **no ordenados**.\n",
    "* Sus valores deben ser *hasheables*.\n",
    "* Es eficiente para **ver si un elemento está o no** (tiempo constante, no depende del largo) (se usa *elemento* in *conjunto*)\n",
    "* Los valores no se repiten :D"
   ]
  },
  {
   "cell_type": "code",
   "execution_count": 36,
   "metadata": {
    "scrolled": true
   },
   "outputs": [
    {
     "name": "stdout",
     "output_type": "stream",
     "text": [
      "{'hola', 'bien también :D', 'bien y tú', 'cómo estás'}\n",
      "{'hola', 'bien también :D', 'bien y tú', 'cómo estás'}\n"
     ]
    }
   ],
   "source": [
    "# Con set([lista])\n",
    "conjunto = set([\"hola\", \"hola\", \"hola\", \"cómo estás\", \"bien y tú\", \"bien también :D\"])\n",
    "print(conjunto)\n",
    "\n",
    "# Con {}\n",
    "conjunto = {\"hola\", \"hola\", \"hola\", \"cómo estás\", \"bien y tú\", \"bien también :D\"}\n",
    "print(conjunto)\n",
    "\n",
    "# Nota -> hola = {} crearía un diccionario :D"
   ]
  },
  {
   "cell_type": "markdown",
   "metadata": {},
   "source": [
    "* **Operaciones en Sets**:\n",
    "    * `len`: Entrega el largo.\n",
    "    * `add`: Agrega un elemento.\n",
    "    * `remove`: Elimina un elemento (da error si no existe :O).\n",
    "    * `discard`: Quita un elemento sin error :D.\n",
    "    \n",
    "* **Operaciones de conjuntos** :O"
   ]
  },
  {
   "cell_type": "markdown",
   "metadata": {},
   "source": [
    "<img src=\"https://upload.wikimedia.org/wikipedia/commons/3/32/SetUnion.svg\" alt=\"Drawing\" style=\"width: 200px;\"/>\n",
    "* **Unión**: `A | B` o `A.union(B)`"
   ]
  },
  {
   "cell_type": "markdown",
   "metadata": {},
   "source": [
    "<img src=\"https://upload.wikimedia.org/wikipedia/commons/c/cb/SetIntersection.svg\" alt=\"Drawing\" style=\"width: 200px;\"/>\n",
    "* **Intersección**: `A & B` o `A.intersection(B)`"
   ]
  },
  {
   "cell_type": "markdown",
   "metadata": {},
   "source": [
    "<img src=\"https://upload.wikimedia.org/wikipedia/commons/e/ec/SetDifferenceA.svg\" alt=\"Drawing\" style=\"width: 200px;\"/>\n",
    "* **Diferencia**: `A - B` o `A.difference(B)`"
   ]
  },
  {
   "cell_type": "markdown",
   "metadata": {},
   "source": [
    "<img src=\"https://upload.wikimedia.org/wikipedia/commons/f/f2/SetSymmetricDifference.svg\" alt=\"Drawing\" style=\"width: 200px;\"/>\n",
    "* **Diferencia simétrica**: `A ^ B` o `A.symmetric_difference(B)`"
   ]
  },
  {
   "cell_type": "markdown",
   "metadata": {},
   "source": [
    "* Se puede usar `>=`, `<=` y `==` para saber si un conjunto es *superconjunto*, *subconjunto* o es el mismo que otro conjunto."
   ]
  },
  {
   "cell_type": "markdown",
   "metadata": {},
   "source": [
    "# <a id='2'></a> Semana 2 - Programación Funcional [<<](#0) [<](#1) [>](#3)"
   ]
  },
  {
   "cell_type": "markdown",
   "metadata": {},
   "source": [
    "* Programación procedimental de alto nivel. Input -> Output (sin modificaciones (?))\n",
    "* *duck typing*: Cálculos aplicables a objetos de clases distintas.\n",
    "* Algunas funciones:\n",
    "    * `len`: Cálcula el largo, llama a `objeto.__len__()`\n",
    "    * `__getitem__`: Permite llamar un índice de la forma `objeto[valor]`. Esto permite que se puede iterar sobre el objeto.\n",
    "    * `reversed()`: Invierte el orden. Llama a `objeto.__reversed__()`. Si este no se modifica, utiliza `__getitem__` con `__len__` para recorrerlo desde el largo hasta el inicio :D.\n",
    "    * `enumerate()`: Al hacer `enumerate(iterable)`, se crea un iterable con tuplas de la forma (*i*, *elemento*) donde *i* sería la posición del *elemento* en el iterable original. Por ejemplo:"
   ]
  },
  {
   "cell_type": "code",
   "execution_count": 39,
   "metadata": {
    "scrolled": true
   },
   "outputs": [
    {
     "name": "stdout",
     "output_type": "stream",
     "text": [
      "Range:\n",
      "0: hola\n",
      "1: jiji\n",
      "2: :D\n",
      "--------------------\n",
      "Enumerate:\n",
      "0: hola\n",
      "1: jiji\n",
      "2: :D\n"
     ]
    }
   ],
   "source": [
    "lista = [\"hola\", \"jiji\", \":D\"]\n",
    "# Con range:\n",
    "print(\"Range:\")\n",
    "for indice in range(len(lista)):\n",
    "    print(f\"{indice}: {lista[indice]}\")\n",
    "print(\"-\"*20)\n",
    "    \n",
    "# Con enumerate:\n",
    "print(\"Enumerate:\")\n",
    "for indice, elemento in enumerate(lista):\n",
    "    print(f\"{indice}: {elemento}\")"
   ]
  },
  {
   "cell_type": "markdown",
   "metadata": {},
   "source": [
    "   * `zip`: Comprime dos o más iterables para hacer una lista de tuplas. Por ejemplo:"
   ]
  },
  {
   "cell_type": "code",
   "execution_count": 42,
   "metadata": {},
   "outputs": [
    {
     "name": "stdout",
     "output_type": "stream",
     "text": [
      "[(1, 'uno'), (2, 'dos'), (3, 'tres'), (4, 'cuatro')]\n",
      "1: uno\n",
      "2: dos\n",
      "3: tres\n",
      "4: cuatro\n"
     ]
    }
   ],
   "source": [
    "lista_letras = [\"uno\", \"dos\", \"tres\", \"cuatro\"]\n",
    "lista_numeros = [1, 2, 3, 4]\n",
    "print(list(zip(lista_numeros, lista_letras)))\n",
    "for numero, letra in zip(lista_numeros, lista_letras):\n",
    "    print(f\"{numero}: {letra}\")"
   ]
  },
  {
   "cell_type": "markdown",
   "metadata": {},
   "source": [
    "   * `zip` tendrá el largo del iterable más pequeño :D sin embargo, `itertools` tiene a la función `zip_longest` que tomará en cuenta la más larga, llenando los espacios con `None` (Se puede elegir un valor cambiando el *key argument* `fillvalue=`)\n",
    "   * `zip(*lista_compresa)`: Sería como la inversa de `zip`:"
   ]
  },
  {
   "cell_type": "code",
   "execution_count": 52,
   "metadata": {},
   "outputs": [
    {
     "name": "stdout",
     "output_type": "stream",
     "text": [
      "Compreso: [('uno', 1), ('dos', 2), ('tres', 3), ('cuatro', 4)]\n",
      "--------------------\n",
      "Sin comprimir: [('uno', 'dos', 'tres', 'cuatro'), (1, 2, 3, 4)]\n"
     ]
    }
   ],
   "source": [
    "lista_letras = [\"uno\", \"dos\", \"tres\", \"cuatro\"]\n",
    "lista_numeros = [1, 2, 3, 4]\n",
    "lista_zip = list(zip(lista_letras, lista_numeros))\n",
    "print(\"Compreso:\", lista_zip)\n",
    "print(\"-\"*20)\n",
    "lista_unzip = zip(*list(lista_zip))\n",
    "print(\"Sin comprimir:\", list(lista_unzip))"
   ]
  },
  {
   "cell_type": "markdown",
   "metadata": {},
   "source": [
    "### Listas por Comprensión"
   ]
  },
  {
   "cell_type": "code",
   "execution_count": 62,
   "metadata": {},
   "outputs": [
    {
     "name": "stdout",
     "output_type": "stream",
     "text": [
      "Uso de Lista por Comprensión\n",
      "(cuadrado de los números):\n",
      "[1, 4, 9, 16, 25, 36, 49, 64]\n",
      "--------------------\n",
      "Uso de if en la lista\n",
      "(Solo los que sean pares):\n",
      "[4, 16, 36, 64]\n"
     ]
    }
   ],
   "source": [
    "lista_numeros = [1, 2, 3, 4, 5, 6, 7, 8]\n",
    "print(\"Uso de Lista por Comprensión\\n(cuadrado de los números):\")\n",
    "lista_cuadrados = [i**2 for i in lista_numeros]\n",
    "print(lista_cuadrados)\n",
    "print(\"-\"*20)\n",
    "print(\"Uso de if en la lista\\n(Solo los que sean pares):\")\n",
    "lista_cuadrados_pares = [i**2 for i in lista_numeros if i%2 == 0]\n",
    "print(lista_cuadrados_pares)"
   ]
  },
  {
   "cell_type": "markdown",
   "metadata": {},
   "source": [
    "### Sets y diccionarios por comprensión\n",
    "* `Sets`: {func(i) for i in iterable}\n",
    "* `Diccionarios`: {i: func(i) for i in iterable}"
   ]
  },
  {
   "cell_type": "markdown",
   "metadata": {},
   "source": [
    "## Generadores\n",
    "* **Iterable**: Es cualquier objeto que se pueda iterar. Se implementa el método `__iter__()`.\n",
    "* **Iterador**: Es un objeto que itera sobre un iterable, es básicamente lo que retorna `__iter__()`. Implementa el método `__next__()`. Si se completo la iteración, el objeto levanta la excepción `StopIteration`."
   ]
  },
  {
   "cell_type": "code",
   "execution_count": 64,
   "metadata": {},
   "outputs": [
    {
     "name": "stdout",
     "output_type": "stream",
     "text": [
      "1\n",
      "2\n",
      "3\n",
      "4\n"
     ]
    },
    {
     "ename": "StopIteration",
     "evalue": "",
     "output_type": "error",
     "traceback": [
      "\u001b[1;31m---------------------------------------------------------------------------\u001b[0m",
      "\u001b[1;31mStopIteration\u001b[0m                             Traceback (most recent call last)",
      "\u001b[1;32m<ipython-input-64-9a6101e5f248>\u001b[0m in \u001b[0;36m<module>\u001b[1;34m()\u001b[0m\n\u001b[0;32m      5\u001b[0m \u001b[0mprint\u001b[0m\u001b[1;33m(\u001b[0m\u001b[0mnext\u001b[0m\u001b[1;33m(\u001b[0m\u001b[0miterador\u001b[0m\u001b[1;33m)\u001b[0m\u001b[1;33m)\u001b[0m\u001b[1;33m\u001b[0m\u001b[0m\n\u001b[0;32m      6\u001b[0m \u001b[0mprint\u001b[0m\u001b[1;33m(\u001b[0m\u001b[0mnext\u001b[0m\u001b[1;33m(\u001b[0m\u001b[0miterador\u001b[0m\u001b[1;33m)\u001b[0m\u001b[1;33m)\u001b[0m\u001b[1;33m\u001b[0m\u001b[0m\n\u001b[1;32m----> 7\u001b[1;33m \u001b[0mprint\u001b[0m\u001b[1;33m(\u001b[0m\u001b[0mnext\u001b[0m\u001b[1;33m(\u001b[0m\u001b[0miterador\u001b[0m\u001b[1;33m)\u001b[0m\u001b[1;33m)\u001b[0m\u001b[1;33m\u001b[0m\u001b[0m\n\u001b[0m",
      "\u001b[1;31mStopIteration\u001b[0m: "
     ]
    }
   ],
   "source": [
    "iterable = [1, 2, 3, 4] # Una lista es un iterable\n",
    "iterador = iter(iterable) # Utiliza iter() para transformar a iterador\n",
    "print(next(iterador))\n",
    "print(next(iterador))\n",
    "print(next(iterador))\n",
    "print(next(iterador))\n",
    "print(next(iterador))"
   ]
  },
  {
   "cell_type": "markdown",
   "metadata": {},
   "source": [
    "* Para hacer un **generador**, se hace muy similar a una lista por comprensión, solo que se ocupan `(` y `)`. Los generadores se tienen que crear de nuevo para volver a usarlos :D. Ocupan menos memoria :O\n",
    "* **Funciones generadoras**: Estas utilizan `yield`, que es como un return, solo que puede retornar varios resultados cada vez (utilizando `next()` o iterando en la función). Esto también se puede agregar en un `__iter__(self)` de una clase :D.\n",
    "* **Uso de `send()` en funciones generadoras**: se puede utilizar:\n",
    "\n",
    "        variable = yield elemento\n",
    "   \n",
    "   Y esa variable va a ser aquella que sea enviado por `send()` desde fuera de la función y recibida dentro de esta, además, elemento será lo que retorne una vez que se usa `send()`. Ejemplo:"
   ]
  },
  {
   "cell_type": "code",
   "execution_count": 65,
   "metadata": {},
   "outputs": [],
   "source": [
    "def suma_varios_digitos():\n",
    "    suma = 0\n",
    "    while True:\n",
    "        recibido = yield suma\n",
    "        if recibido is None:\n",
    "            pass\n",
    "        else:\n",
    "            suma += recibido"
   ]
  },
  {
   "cell_type": "code",
   "execution_count": 74,
   "metadata": {},
   "outputs": [
    {
     "name": "stdout",
     "output_type": "stream",
     "text": [
      "3\n",
      "7\n",
      "20\n",
      "20\n",
      "20\n"
     ]
    }
   ],
   "source": [
    "suma_varios = suma_varios_digitos()\n",
    "\n",
    "# suma_varios.send(2) esta línea da error\n",
    "# porque antes necesitamos hacer un next()\n",
    "next(suma_varios)\n",
    "\n",
    "# Ahora sí se puede, el primer next() sería como\n",
    "# una \"inicialización\".\n",
    "print(suma_varios.send(3))\n",
    "print(suma_varios.send(4))\n",
    "print(suma_varios.send(13))\n",
    "print(next(suma_varios))\n",
    "print(next(suma_varios))"
   ]
  },
  {
   "cell_type": "markdown",
   "metadata": {},
   "source": [
    "## Funciones súper importantes :O\n",
    "### *`lambda`*\n",
    "* Es como crear una función portatil."
   ]
  },
  {
   "cell_type": "code",
   "execution_count": 77,
   "metadata": {},
   "outputs": [
    {
     "name": "stdout",
     "output_type": "stream",
     "text": [
      "['A', 'H', 'Ñ']\n"
     ]
    }
   ],
   "source": [
    "diccionario = {\"A\": 1, \"Ñ\": 9, \"H\": 3}\n",
    "lista = [\"A\", \"Ñ\", \"H\"]\n",
    "lista_ordenada = sorted(lista, key=lambda i: diccionario[i])\n",
    "print(lista_ordenada)"
   ]
  },
  {
   "cell_type": "markdown",
   "metadata": {},
   "source": [
    "### `map`\n",
    "* Recibe una función y un iterable, de esta forma, aplica esa función a todo el iterable, entregando un generador con estos resultados :D.\n",
    "* Forma de uso: `map(funcion, iterable)`.\n",
    "* Es equivalente a `(funcion(i) for i in iterable)`"
   ]
  },
  {
   "cell_type": "markdown",
   "metadata": {},
   "source": [
    "### `filter`\n",
    "* Recibe una función que retorna `True` o `False`, y un iterable, entregando un generador en donde deja todos los elementos que al aplicar la función dan `True`.\n",
    "* Forma de uso: `filter(funcion, iterable)`.\n",
    "* Es equivalente a `(i for i in iterable if funcion(i))`."
   ]
  },
  {
   "cell_type": "markdown",
   "metadata": {},
   "source": [
    "### `reduce` (`from functools`)\n",
    "* `reduce` es una operación que aplica sucesivamente una función `f(x, y)`, donde `x` es el resultado acumulado e `y` es un elemento de la secuencia.\n",
    "* Forma de uso: `reduce(funcion, iterable)`.\n",
    "* Es equivalente a:\n",
    "    * Sea `iterable = [a, b, c, d, e]`\n",
    "    * Sea `f` una función.\n",
    "    * reduce(f, iterable) sería equivalente a:\n",
    "    * `f(f(f(f(a, b), c), d), e)`.\n",
    "    * Ejemplo:"
   ]
  },
  {
   "cell_type": "code",
   "execution_count": 80,
   "metadata": {},
   "outputs": [
    {
     "name": "stdout",
     "output_type": "stream",
     "text": [
      "Sumando 1 + 2 = 3\n",
      "Sumando 3 + 3 = 6\n",
      "Sumando 6 + 4 = 10\n",
      "Sumando 10 + 5 = 15\n",
      "Sumando 15 + 6 = 21\n",
      "Sumando 21 + 7 = 28\n",
      "Sumando 28 + 8 = 36\n"
     ]
    },
    {
     "data": {
      "text/plain": [
       "36"
      ]
     },
     "execution_count": 80,
     "metadata": {},
     "output_type": "execute_result"
    }
   ],
   "source": [
    "from functools import reduce\n",
    "\n",
    "def suma_acumulada(a, b):\n",
    "    suma = a + b\n",
    "    print(f\"Sumando {a} + {b} = {suma}\")\n",
    "    return suma\n",
    "\n",
    "reduce(suma_acumulada, [1, 2, 3, 4, 5, 6, 7, 8])"
   ]
  },
  {
   "cell_type": "markdown",
   "metadata": {},
   "source": [
    "* Si el iterable de `reduce` tiene solo un elemento, se retornará ese elemento sin aplicar la función, a menos que se agregue un iniciador, que se utilizará como elemento previo, sería de la forma: `reduce(funcion, iterable, primer_elemento)`"
   ]
  },
  {
   "cell_type": "markdown",
   "metadata": {},
   "source": [
    "# <a id='3'></a> Semana 3  -          Decoradores [<<](#0) [<](#2) [>](#4)"
   ]
  },
  {
   "cell_type": "markdown",
   "metadata": {},
   "source": [
    "## Funciones de primera clase\n",
    "* Pueden ser usadas como variables\n",
    "* Pueden haber funciones dentro de otras funciones. Nota: La función de dentro puede leer variables que están en la función más grande.\n",
    "* Pueden retornar otras funciones."
   ]
  },
  {
   "cell_type": "markdown",
   "metadata": {},
   "source": [
    "## Decoradores de funciones\n",
    "* Permiten tomar función ya implementada y agregarle algún comportamiento adicional.\n",
    "* Sería algo como `f1 = decorador(f1)`\n",
    "* La estructura es:\n",
    "\n",
    "        def decorador(funcion_original):\n",
    "            \n",
    "            def wrapper():\n",
    "                fun = funcion_original()\n",
    "                #Aquí se agregan cosas a fun\n",
    "                \n",
    "            return wrapper"
   ]
  },
  {
   "cell_type": "code",
   "execution_count": 85,
   "metadata": {},
   "outputs": [],
   "source": [
    "def decorador(funcion_original):\n",
    "    print(\"Entrando al decorador\")\n",
    "    \n",
    "    def wrapper():\n",
    "        print(\"Entrando a wrapper\")\n",
    "        funcion_original()\n",
    "        print(\"Saliendo de wrapper\")\n",
    "        \n",
    "    print(\"Saliendo del decorador\")\n",
    "    return wrapper"
   ]
  },
  {
   "cell_type": "code",
   "execution_count": 86,
   "metadata": {},
   "outputs": [],
   "source": [
    "def funcion_comun():\n",
    "    print(\"Esta es una funcion que imprime\")"
   ]
  },
  {
   "cell_type": "code",
   "execution_count": 87,
   "metadata": {},
   "outputs": [
    {
     "name": "stdout",
     "output_type": "stream",
     "text": [
      "Entrando al decorador\n",
      "Saliendo del decorador\n"
     ]
    }
   ],
   "source": [
    "funcion_decorada = decorador(funcion_comun)"
   ]
  },
  {
   "cell_type": "code",
   "execution_count": 88,
   "metadata": {},
   "outputs": [
    {
     "name": "stdout",
     "output_type": "stream",
     "text": [
      "Entrando a wrapper\n",
      "Esta es una funcion que imprime\n",
      "Saliendo de wrapper\n"
     ]
    }
   ],
   "source": [
    "funcion_decorada()"
   ]
  },
  {
   "cell_type": "markdown",
   "metadata": {},
   "source": [
    " ### Decorando con Azúcar sintáctico\n",
    " * Esta se ocupa de la siguiente forma:\n",
    " \n",
    "         @decorador\n",
    "         def funcion_original():\n",
    "             return \"algo\""
   ]
  },
  {
   "cell_type": "code",
   "execution_count": 89,
   "metadata": {},
   "outputs": [
    {
     "name": "stdout",
     "output_type": "stream",
     "text": [
      "Entrando al decorador\n",
      "Saliendo del decorador\n"
     ]
    }
   ],
   "source": [
    "@decorador\n",
    "def funcion_comun():\n",
    "    print(\"Esta es una funcion que imprime\")"
   ]
  },
  {
   "cell_type": "code",
   "execution_count": 90,
   "metadata": {},
   "outputs": [
    {
     "name": "stdout",
     "output_type": "stream",
     "text": [
      "Entrando a wrapper\n",
      "Esta es una funcion que imprime\n",
      "Saliendo de wrapper\n"
     ]
    }
   ],
   "source": [
    "funcion_comun()"
   ]
  },
  {
   "cell_type": "markdown",
   "metadata": {},
   "source": [
    "### Itermezzo -> Decoradores con variables\n",
    "* Los argumentos se agregan a el wrapper :D\n",
    "\n",
    "        def decorador(func):\n",
    "            def wrapper(*args, **kwargs):\n",
    "                f = func(*args, **kwargs)\n",
    "                # Decorar f :D\n",
    "            return wrapper"
   ]
  },
  {
   "cell_type": "markdown",
   "metadata": {},
   "source": [
    "### Decoradores con parametros\n",
    "* Agregamos una capa sobre el decorador original, que recibirá el parámetro que irá cambiando dependiendo de como ocupemos el parámetro, se agregaría en la azúcar sintáctica :D @decorador(\"algo\")\n",
    "\n",
    "        def deco_parametro(parametro):\n",
    "        \n",
    "            def decorador(func):\n",
    "                def wrapper(*ar, **kwar):\n",
    "                    fun = func(*ar, *kwar)\n",
    "                    # Hacer algo\n",
    "                    return fun\n",
    "                return wrapper\n",
    "            \n",
    "            return decorador"
   ]
  },
  {
   "cell_type": "code",
   "execution_count": 91,
   "metadata": {},
   "outputs": [],
   "source": [
    "def decorador(numero_a_sumar):\n",
    "    def sub_decorador(funcion):\n",
    "        def wrapper(*args, **kwargs):\n",
    "            n = funcion(*args, **kwargs)\n",
    "            n += numero_a_sumar\n",
    "            return n\n",
    "        return wrapper\n",
    "    return sub_decorador"
   ]
  },
  {
   "cell_type": "code",
   "execution_count": 92,
   "metadata": {},
   "outputs": [],
   "source": [
    "@decorador(80)\n",
    "def suma(a, b):\n",
    "    return a + b"
   ]
  },
  {
   "cell_type": "code",
   "execution_count": 94,
   "metadata": {},
   "outputs": [
    {
     "name": "stdout",
     "output_type": "stream",
     "text": [
      "200\n"
     ]
    }
   ],
   "source": [
    "print(suma(30, 90))"
   ]
  },
  {
   "cell_type": "markdown",
   "metadata": {},
   "source": [
    "# <a id='4'></a> Semana 4  -          Programación Orientada a Objetos 1 [<<](#0) [<](#3) [>](#5)"
   ]
  },
  {
   "cell_type": "markdown",
   "metadata": {},
   "source": [
    "* Las clases se definen de esta forma:\n",
    "        \n",
    "        class NombreClase:\n",
    "            def __init__(self, *ar, **kwar):\n",
    "                # Aquí van atributos como:\n",
    "                self.atributo_1 = algo\n",
    "            \n",
    "            def metodo():\n",
    "                return otra_cosa\n",
    "       \n",
    "* Para ver una descripción: help(Clase)\n",
    "* Por convención, los atributos que empiezan con *underscore* (`_`) son de caracter privado, sin embargo, se puede acceder a ellos de todas formas :D.\n",
    "* En caso de que se use *doble underscore*, entonces para acceder al atributo desde fuera se deberá usar: `_NombreClase__atributo_secreto`.\n",
    "* Sin embargo, si estos también finalizan con *doble underscore*, entonces se puede acceder a ellos de forma normal :D Por ejemplo `__str__`.\n",
    "                "
   ]
  },
  {
   "cell_type": "markdown",
   "metadata": {},
   "source": [
    "## Properties\n",
    "* Funcionan para modificar ciertas funciones de un atributo. Ejemplo:"
   ]
  },
  {
   "cell_type": "code",
   "execution_count": 106,
   "metadata": {},
   "outputs": [],
   "source": [
    "class NumeroUnDigito:\n",
    "    def __init__(self, num):\n",
    "        self._num = num\n",
    "    \n",
    "    @property    # ---> este sería el getter\n",
    "    def num(self):\n",
    "        return self._num\n",
    "    \n",
    "    @num.setter  # ---> este sería el setter\n",
    "    def num(self, valor):\n",
    "        if valor > 9:\n",
    "            self._num = 9\n",
    "        elif valor < 0:\n",
    "            self._num = 0\n",
    "        else:\n",
    "            self._num = valor\n",
    "    \n",
    "    @num.deleter\n",
    "    def num(self):\n",
    "        del self._num\n",
    "    \n",
    "    def sumar(self, otro_num):\n",
    "        self.num += otro_num\n",
    "        \n",
    "    def restar(self, otro_num):\n",
    "        self.num -= otro_num"
   ]
  },
  {
   "cell_type": "code",
   "execution_count": 105,
   "metadata": {},
   "outputs": [
    {
     "name": "stdout",
     "output_type": "stream",
     "text": [
      "9\n",
      "2\n",
      "0\n"
     ]
    }
   ],
   "source": [
    "numerito = NumeroUnDigito(3)\n",
    "numerito.sumar(10)\n",
    "print(numerito.num)\n",
    "numerito.restar(7)\n",
    "print(numerito.num)\n",
    "numerito.restar(10)\n",
    "print(numerito.num)"
   ]
  },
  {
   "cell_type": "markdown",
   "metadata": {},
   "source": [
    "* Otra forma de usar properties es, crear funciones que funcionen como *getter* y *setter*, luego usar:\n",
    "\n",
    "    `atributo = property(_get_func, _set_func, _del_func)`"
   ]
  },
  {
   "cell_type": "markdown",
   "metadata": {},
   "source": [
    "## Herencia\n",
    "* Sirve para \"reciclar clases\" :D\n",
    "\n",
    "        class SubClase(SuperClase):\n",
    "            def __init__(*ar, **kw):\n",
    "                super().__init__(*ar, **kw)"
   ]
  },
  {
   "cell_type": "markdown",
   "metadata": {},
   "source": [
    "## Poliformismo\n",
    "* **Overriding**: Sobreescribir un método de la superclase en la subclase :D\n",
    "* **Overloading**: Capacidad de un método de crear un método con el mismo nombre, pero que hago algo distinto dependiendo del número y tipo de argumentos :O. Esto no se puede hacer oficialmente en Python, pero se puede simular haciendo subclases donde se sobreescriba una función dependiendo del tipo de la clase :D."
   ]
  },
  {
   "cell_type": "markdown",
   "metadata": {},
   "source": [
    "* **Operadores**:\n",
    "    * `__add__` -> `+`\n",
    "    * `__sub__` -> `-`\n",
    "    * `__lt__` -> `<` (*less than*)\n",
    "    * `__eq__` -> `==` (*equals*)\n",
    "    * `__repr__` -> *String* con información completa del objeto :D\n",
    "    * `__str__` -> Es más legible. Si se implementa `__repr__` y `__str__`, entonces print imprime `__str__` :D."
   ]
  },
  {
   "cell_type": "markdown",
   "metadata": {},
   "source": [
    "## Duck typing\n",
    "* A veces se crea una función que espera una instancia de tipo espcífico como argumento, sin embargo, muchas veces si es de una clase con métodos parecidos, entonces no hay problema y la acepta :D."
   ]
  },
  {
   "cell_type": "markdown",
   "metadata": {},
   "source": [
    "## Diagrama de Clases\n",
    "* Pertenece al conjunto de herramientas *UML*.\n",
    "* Los elementos de cada casilla son de la forma:\n",
    "    * Nombre\n",
    "    * Atributos: tipo\n",
    "    * Métodos: tipo de retorno\n",
    "* Por ejemplo:\n",
    "    \n",
    "        NombreClase\n",
    "        ----------------------------\n",
    "        + valido: bool\n",
    "        + numero: int\n",
    "        + <get/set> property: float\n",
    "        ----------------------------\n",
    "        + calcular(numero): int\n",
    "        + verificar(valido): bool\n",
    "        + imprimir_numero(numero): None\n",
    "\n",
    "* **Relaciones**:\n",
    "    * **Composición**: El objeto depende de la existencia de otro.\n",
    "    \n",
    " <img src=\"semana-04/img/UML_mario_03.png\" width=\"600\">\n",
    "    \n",
    "    * **Agregación**: El objeto es independiente, pero se relaciona con otro.\n",
    "    <img src=\"semana-04/img/UML_mario_04.png\" width=\"200\">\n",
    "    * **Herencia**: Cuando ocurre herencia lkjdñd.\n",
    "    <img src=\"semana-04/\n",
    "img/UML_mario_05.png\" width=\"600\">\n",
    "\n",
    "* Cardinalidad:\n",
    "    * `1..*` -> 1 o muchos\n",
    "    * `0..*` -> 0 o muchos\n",
    "    * `n` -> número fijo :D\n",
    "\n",
    "* Modelo integrado:\n",
    "<img src=\"semana-04/img/UML_mario_07.png\" width=\"800\">"
   ]
  },
  {
   "cell_type": "markdown",
   "metadata": {},
   "source": [
    "# <a id='5'></a> Semana 5  -          Programación Orientada a Objetos 2 [<<](#0) [<](#4) [>](#6)"
   ]
  },
  {
   "cell_type": "markdown",
   "metadata": {},
   "source": [
    "## Multiherencia\n",
    "* Se puede heredar de más de una clase a la vez.\n",
    "\n",
    "        class SubClase(Clase1, Clase2):\n",
    "            def __init__(arg1, arg2, arg3):\n",
    "                Clase1.__init__(arg1, arg2)\n",
    "                Clase2.__init__(arg3)\n",
    "                super().metodo_compartido()\n",
    "                #esto es para solucionar\n",
    "                #problema del diamante :D\n",
    "                #también se puede hacer un\n",
    "                # super().__init__(**kwargs)\n",
    "                \n",
    "* Para revisar la manera en que se llama a las superclases, se puede utilizar `__mro__`. El Orden sería de abajo hacia arriba, de izquierda a derecha :D. La idea es que se respete este orden después c:\n",
    "\n",
    "        Subclase.__mro__"
   ]
  },
  {
   "cell_type": "markdown",
   "metadata": {},
   "source": [
    "## Clases Abstractas\n",
    "* Funcionan para hacer una clase base en donde no necesariamente se crean métodos que hagan algo, si no que lo importante es que existan :D."
   ]
  },
  {
   "cell_type": "code",
   "execution_count": 108,
   "metadata": {},
   "outputs": [],
   "source": [
    "from abc import ABC, abstractmethod, abstractproperty\n",
    "\n",
    "class Base(ABC):\n",
    "    @abstractmethod\n",
    "    def fun_1(self):\n",
    "        pass\n",
    "    \n",
    "    @abstractmethod\n",
    "    def fun_2(self):\n",
    "        pass\n",
    "    \n",
    "    @abstractproperty\n",
    "    def valor(self):\n",
    "        return \"esto se reemplaza :D\""
   ]
  },
  {
   "cell_type": "markdown",
   "metadata": {},
   "source": [
    "* La clase que herede de una abstracta necesita tener todos los métodos y atributos (?):D."
   ]
  },
  {
   "cell_type": "markdown",
   "metadata": {},
   "source": [
    "## Anexo: `__call__`\n",
    "* Permite que al hacer `instancia(valor)` suceda algo :D\n",
    "\n",
    "        class Clase:\n",
    "            def __init__(self):\n",
    "                pass\n",
    "            \n",
    "            def __call__(self, valor):\n",
    "                print(valor)"
   ]
  },
  {
   "cell_type": "markdown",
   "metadata": {},
   "source": [
    "# <a id='6'></a> Semana 6  -          Estructuras de Datos: Árboles y Listas Ligadas [<<](#0) [<](#5) [>](#7)"
   ]
  },
  {
   "cell_type": "markdown",
   "metadata": {},
   "source": [
    "## Listas Ligadas\n",
    "* Almacena nodos en orden secuencial (como listas, stacks, y colas).\n",
    "* Consiste en una cabeza y una cola, donde cada nodo tiene un enlace al siguiente :D."
   ]
  },
  {
   "cell_type": "code",
   "execution_count": 111,
   "metadata": {},
   "outputs": [],
   "source": [
    "class Nodo:\n",
    "    def __init__(self, valor=None):\n",
    "        self.valor = valor\n",
    "        self.siguiente = None\n",
    "        \n",
    "    '''El nodo tiene un valor (un número,\n",
    "    una lista, un string, etc), y un siguiente\n",
    "    que corresponde al siguiente nodo.'''"
   ]
  },
  {
   "cell_type": "code",
   "execution_count": 112,
   "metadata": {},
   "outputs": [],
   "source": [
    "class ListaLigada:\n",
    "    \n",
    "    def __init__(self):\n",
    "        self.cabeza = None\n",
    "        self.cola = None\n",
    "\n",
    "        \n",
    "    def agregar(self, valor):\n",
    "        nuevo = Nodo(valor)\n",
    "        if not self.cabeza:\n",
    "            self.cabeza = nuevo\n",
    "            self.cola = self.cabeza\n",
    "            '''Si la lista ligada está vacía,\n",
    "            entonces, la cabeza y la cola serán\n",
    "            el nodo nuevo :D'''\n",
    "            \n",
    "        else:\n",
    "            self.cola.siguiente = nuevo\n",
    "            self.cola = self.cola.siguiente\n",
    "            '''Si no está vacío, entonces agregamos\n",
    "            un siguiente al último nodo.\n",
    "            Luego dejamos que el último nodo\n",
    "            sea el nuevo nodo.'''\n",
    "\n",
    "            \n",
    "    def obtener(self, posicion):\n",
    "        nodo_actual = self.cabeza\n",
    "\n",
    "        for i in range(posicion):\n",
    "            if nodo_actual:\n",
    "                nodo_actual = nodo_actual.siguiente\n",
    "        \n",
    "        if not nodo_actual:\n",
    "            return \"Posición no encontrada\"\n",
    "        return nodo_actual.valor\n",
    "    \n",
    "        '''Recorre hasta encontrar el valor :D'''\n",
    "\n",
    "    \n",
    "    def insertar(self, valor, posicion):\n",
    "        nodo_nuevo = Nodo(valor)\n",
    "        nodo_actual = self.cabeza\n",
    "        \n",
    "        # Caso en que hay que agregar en la cabeza\n",
    "        if posicion == 0:\n",
    "            nodo_nuevo.siguiente = self.cabeza\n",
    "            self.cabeza = nodo_nuevo\n",
    "            # En caso de que sea de largo uno:\n",
    "            if nodo_nuevo.siguiente is None:\n",
    "                self.cola = nodo_nuevo\n",
    "            return\n",
    "\n",
    "        # Buscamos el nodo predecesor\n",
    "        for i in range(posicion - 1):\n",
    "            if nodo_actual:\n",
    "                nodo_actual = nodo_actual.siguiente\n",
    "\n",
    "        # Si encontramos el predecesor, actualizamos las referencias\n",
    "        if nodo_actual is not None:\n",
    "            nodo_nuevo.siguiente = nodo_actual.siguiente        \n",
    "            nodo_actual.siguiente = nodo_nuevo\n",
    "            if nodo_nuevo.siguiente is None:\n",
    "                self.cola = nodo_nuevo\n",
    "\n",
    "                \n",
    "    def __repr__(self):\n",
    "        string = \"\"\n",
    "        nodo_actual = self.cabeza\n",
    "        while nodo_actual:\n",
    "            string = f\"{string}{nodo_actual.valor} → \"\n",
    "            nodo_actual = nodo_actual.siguiente\n",
    "        return string"
   ]
  },
  {
   "cell_type": "markdown",
   "metadata": {},
   "source": [
    "## Árboles\n",
    "* Estructura de datos *no lineal*. Sigue más bien una estructura **jerárquica**.\n",
    "* **Profundidad** de un nodo corresponde a la cantidad de **aristas** por recorrer para llegar a la raíz.\n",
    "* **Altura** de un árbol corresponde al máximo de las profundidades alcanzadas por las hojas.\n",
    "* **Nodo** del árbol tiene los atributos:\n",
    "    * `id_nodo`.\n",
    "    * `parent`.\n",
    "    * `children`.\n",
    "    * `valor`."
   ]
  },
  {
   "cell_type": "code",
   "execution_count": 113,
   "metadata": {},
   "outputs": [],
   "source": [
    "class Arbol:\n",
    "    \n",
    "    def __init__(self, id_nodo, valor=None, padre=None):\n",
    "        self.id_nodo = id_nodo\n",
    "        self.padre = padre\n",
    "        self.valor = valor\n",
    "        self.hijos = {}\n",
    "        \n",
    "\n",
    "    def obtener_nodo(self, id_nodo):\n",
    "         # Caso base: ¡Lo encontramos!\n",
    "        if self.id_nodo == id_nodo:\n",
    "            return self\n",
    "\n",
    "        # Buscamos recursivamente entre los hijos\n",
    "        for hijo in self.hijos.values():\n",
    "            nodo = hijo.obtener_nodo(id_nodo)\n",
    "            # Si lo encontró, lo retornamos\n",
    "            if nodo:\n",
    "                return nodo\n",
    "        \n",
    "        # Si no lo encuentra, retorna None\n",
    "        return None\n",
    "\n",
    "\n",
    "    def agregar_nodo(self, id_nodo, valor, id_padre):\n",
    "        \"\"\"Agrega un nodo con el id y valor dado, como hijo del nodo con el id 'id_padre'\"\"\"\n",
    "        # Primero, tenemos que encontrar al padre\n",
    "        padre = self.obtener_nodo(id_padre)\n",
    "        # En caso de que el padre no exista no hacemos nada\n",
    "        if padre is None:\n",
    "            return\n",
    "        \n",
    "        # Creamos el nodo\n",
    "        # Nos aseguramos de que el nodo nuevo sea del mismo tipo que la raíz\n",
    "        # Esto lo ocuparemos cuando heredemos de este árbol\n",
    "        nodo = type(self)(id_nodo, valor, padre)\n",
    "        # Agregamos el nodo como hijo de su padre\n",
    "        padre.hijos[id_nodo] = nodo\n",
    "        \n",
    "        \n",
    "    def __repr__(self):\n",
    "        \"\"\"\n",
    "        Entrega una representación del árbol, en forma recursiva.\n",
    "        \n",
    "        Para ello, tenemos que pedir la representación de cada hijo recursivamente. \n",
    "        Esto nos lleva a recorrer todos los nodos del árbol.\n",
    "        \"\"\"\n",
    "        # Texto de este nodo.\n",
    "        # Si el nodo es hoja, se avisa de ello.\n",
    "        # Si el nodo no es hoja, se deja un salto de línea para poder nombrar a los hijos.\n",
    "        if self.hijos:\n",
    "            texto = f\"id: {self.id_nodo}, valor: {self.valor}\\n\"\n",
    "        else:\n",
    "            texto = f\"id: {self.id_nodo}, valor: {self.valor}, nodo hoja\"\n",
    "\n",
    "        # Extrae el repr a cada hijo, en forma recursiva.\n",
    "        texto_hijos = [repr(hijo) for hijo in self.hijos.values()]\n",
    "        \n",
    "        # Indentamos cada línea del texto de los hijos con dos espacios.\n",
    "        # Esto es para que se note el nivel del nodo.\n",
    "        texto_hijos = [indent(x, \"  \")  for x in texto_hijos]\n",
    "        \n",
    "        return texto + \"\\n\".join(texto_hijos)"
   ]
  },
  {
   "cell_type": "markdown",
   "metadata": {},
   "source": [
    "### Recorridos\n",
    "* **BFS**: Lo recorre por niveles :D\n",
    "```\n",
    "        0\n",
    "    1       2\n",
    "  3   4    5  6\n",
    " 7     8\n",
    " ```"
   ]
  },
  {
   "cell_type": "code",
   "execution_count": 114,
   "metadata": {},
   "outputs": [],
   "source": [
    "from collections import deque\n",
    "\n",
    "class ArbolBFS(Arbol):\n",
    "    def __iter__(self):\n",
    "        cola = deque()\n",
    "        cola.append(self) #Raíz\n",
    "        \n",
    "        while cola:\n",
    "            nodo = cola.popleft()\n",
    "            yield nodo\n",
    "            \n",
    "            for hijo in nodo.hijos.values():\n",
    "                cola.append(hijo)"
   ]
  },
  {
   "cell_type": "markdown",
   "metadata": {},
   "source": [
    "* **DFS**: Lo recorre en profundida :D\n",
    "```\n",
    "        0\n",
    "    4       1\n",
    "  7   5    3  2\n",
    " 8     6\n",
    "```"
   ]
  },
  {
   "cell_type": "code",
   "execution_count": 115,
   "metadata": {},
   "outputs": [],
   "source": [
    "from collections import deque\n",
    "\n",
    "class ArbolDFS(Arbol):\n",
    "    def __iter__(self):\n",
    "        stack = deque()\n",
    "        stack.append(self)\n",
    "        \n",
    "        while stack:\n",
    "            nodo = stack.pop()\n",
    "            yield nodo\n",
    "            \n",
    "            for hijo in nodo.hijos.values():\n",
    "                stack.append(hijo)\n",
    "\n",
    "class ArbolDFSRecursivo(Arbol):\n",
    "    def __iter__(self):\n",
    "        yield self\n",
    "        for hijo in self.hijos.values():\n",
    "            yield from hijo"
   ]
  },
  {
   "cell_type": "markdown",
   "metadata": {},
   "source": [
    "## Árbol binario\n",
    "* Caso particular en donde cada nodo tiene máximo dos nodos hijos (uno izquierdo y uno derecho). Un arbol de nivel $d$ posee a lo más $2^d$ nodos.\n",
    "* Un árbol binario completo de profundidad $d$, tiene la siguiente cantidad de nodos:\n",
    "$$\\sum_{i=0}^{d} 2^i = 2^{d + 1} - 1$$"
   ]
  },
  {
   "cell_type": "markdown",
   "metadata": {},
   "source": [
    "# <a id='7'></a> Semana 7  -          Estructuras de Datos: Grafos [<<](#0) [<](#6) [>](#8)"
   ]
  },
  {
   "cell_type": "markdown",
   "metadata": {},
   "source": [
    "## Grafos\n",
    "* Conjunto no vacío de nodos.\n",
    "* **Dirigidos**: Relaciones entr nodos tienen dirección: Que A -> B no significa necesariamente que B -> A.\n",
    "* **No dirigidos**: En este caso, que A -> B significa que B -> A, ya que no se identifican con una dirección :D.\n",
    "* Matrices:\n",
    "     * De adyacencia:\n",
    "           \n",
    "                     vertices de destino\n",
    "                     ------------------\n",
    "                          A   B   C   D\n",
    "            vertices |A   0   1   0   0\n",
    "                de   |B   1   0   1   0\n",
    "             origen  |C   0   1   0   1\n",
    "                     |D   0   0   1   0\n",
    "            \n",
    "     * De incidencia:\n",
    "           \n",
    "                     aristas \n",
    "                     ------------------\n",
    "                          1   2   3   4\n",
    "            vertices |A   0   1   0   0\n",
    "                     |B   1   0   1   0\n",
    "                     |C   0   1   0   1\n",
    "                     |D   0   0   1   0"
   ]
  },
  {
   "cell_type": "markdown",
   "metadata": {},
   "source": [
    "# <a id='8'></a> Semana 8  -          Excepciones y Testing [<<](#0) [<](#7) [>](#9)"
   ]
  },
  {
   "cell_type": "markdown",
   "metadata": {},
   "source": [
    "## Tipos de Excepciones\n",
    "* **`SyntaxError`**: Cuando una sentencia está mal escrita.\n",
    "\n",
    "        print \"Hola Mundo\"\n",
    "        \n",
    "* **`NameError`**: Cuando no se encuentra esa declaración (variable).\n",
    "\n",
    "        a = entrada(\"ingrese valor: \")\n",
    "        \n",
    "* **`ZeroDivisionError`**: Cuando el denominador de una división es cero :O.\n",
    "\n",
    "        a = 4 / 0\n",
    "        \n",
    "* **`IndexError`**: Cuando un indice no es válido\n",
    "\n",
    "        lista = [20. 30, 40]\n",
    "        lista[4]\n",
    "        \n",
    "* **`TypeError`**: Cuando se ocupa una función que no corresponde al tipo de la variable.\n",
    "\n",
    "        a = [1, 2, 3] + 4 # lista + int\n",
    "        \n",
    "* **`AtributeError`**: Cuando se ocupa un atributo o método que no corresponde a la clase indicada.\n",
    "\n",
    "        a = (1, 2, 3)\n",
    "        a.append(4) # las tuplas no append\n",
    "        \n",
    "* **`KeyError`**: Similar a *IndexError*, pero con diccionarios. Ocurre cuando no se encuentra una llave.\n",
    "\n",
    "        a = {\"hola\": 1, \":D\": 2}\n",
    "        a[\"chao\"]"
   ]
  },
  {
   "cell_type": "markdown",
   "metadata": {},
   "source": [
    "## Levantando Excepciones\n",
    "* Esto se puede hacer con `raise`.\n",
    "* `try`: Se intenta hacer algo hasta que encuentra un error.\n",
    "* `except`: Atraba el error.\n",
    "* `else`: Cuando no ocurrió ninguna excepción.\n",
    "* `finally`: Esto siempre se va a ejecutar (tenga excepción o no)."
   ]
  },
  {
   "cell_type": "markdown",
   "metadata": {},
   "source": [
    "## Excepciones Personalizadas\n",
    "* Se ocupan de la siguiente forma:\n",
    "\n",
    "        class ExcepcionPropia(Exception):\n",
    "            def __init__(self, *args):\n",
    "                super().__init__(\"Mensaje\")\n",
    "        "
   ]
  },
  {
   "cell_type": "code",
   "execution_count": 117,
   "metadata": {},
   "outputs": [],
   "source": [
    "class Excepcion2(Exception):\n",
    "    def __init__(self, a, b):\n",
    "        # Sobreescribimos el __init__ para cambiar el ingreso de los parámetros\n",
    "        super().__init__(f\"Alguno de los valores {a} o {b} no es entero\\n\")"
   ]
  },
  {
   "cell_type": "markdown",
   "metadata": {},
   "source": [
    "## Testing"
   ]
  },
  {
   "cell_type": "code",
   "execution_count": 119,
   "metadata": {},
   "outputs": [],
   "source": [
    "import unittest\n",
    "\n",
    "class Chequeador(unittest.TestCase):\n",
    "    def test_1(self):\n",
    "        self.assertEqual(algo, otro)\n",
    "    def test_2(self):\n",
    "        self.assertEqual(algo, otro)\n",
    "# Para ejecutar:\n",
    "# if __name__ = \"__main__\":\n",
    "#       unittest.main()"
   ]
  },
  {
   "cell_type": "markdown",
   "metadata": {},
   "source": [
    "* **Métodos asserts**:\n",
    "    * `assertEqual(a, b)`: Revisa si a == b\n",
    "    * `assertNotEqual(a, b)`: Revisa si a != b\n",
    "    * `assertTrue(bool)`: Revisa si el bool es \n",
    "    True.\n",
    " \n",
    "* `setUp`: Hace que se reinicie cada testeo una variable, por ejemplo.\n",
    "* `tearDown`: Limpia todo, se ejecuta una vez que finalizan tooodos los tests."
   ]
  },
  {
   "cell_type": "markdown",
   "metadata": {},
   "source": [
    "# <a id='9'></a> Semana 9  -          Threading [<<](#0) [<](#8) [>](#10)"
   ]
  },
  {
   "cell_type": "code",
   "execution_count": 123,
   "metadata": {},
   "outputs": [],
   "source": [
    "import threading\n",
    "class Clase(threading.Thread):\n",
    "    def __init__(self, *args):\n",
    "        super().__init__()\n",
    "        self.daemon = True\n",
    "\n",
    "    def run(self):\n",
    "        while False: #Aquí debería ir True\n",
    "            pass\n",
    "            # Hacer algo\n",
    "            \n",
    "hola = Clase()\n",
    "hola.start()"
   ]
  },
  {
   "cell_type": "markdown",
   "metadata": {},
   "source": [
    "#### `join`\n",
    "* Si se quiere detener el programa principal hasta que algún thread (o grupo) se detenga, entonces se puede usar `join(timeout=None)`, donde `timeout` puede ser una cantidad de espera en segundos :D.\n",
    "\n",
    "#### `DaemonThreads`\n",
    "* Son aquellos que se detendran cuando el programa principal lo haga, para eso se usa `instancia.daemon = True`.\n",
    "\n",
    "#### `lock`\n",
    "* Sirve para asegurar de que nos quedaremos con un lock sí o sí.\n",
    "* Se utiliza `lockeo = threading.Lock()`\n",
    "    * `lockeo.acquire()`\n",
    "    * `lockeo.realease()`\n",
    "    * También se puede ocupar `with` :D.\n",
    "* `deadlocks` ocurren cuando dos threading se quedan esperando entre sí."
   ]
  },
  {
   "cell_type": "markdown",
   "metadata": {},
   "source": [
    "# <a id='10'></a> Semana 10  -          Interfaces Gráficas [<<](#0) [<](#9) [>](#11)"
   ]
  },
  {
   "cell_type": "markdown",
   "metadata": {},
   "source": [
    "* import PyQt5\n",
    "* from QtWidgets import ...\n",
    "* Primero se ejecuta:\n",
    "\n",
    "        app = QApplication([])\n",
    "        window = Ventana()\n",
    "        window.show()\n",
    "        sys.exit(app.exec())\n",
    "        \n",
    "* Etiquetas: `QLabel`\n",
    "* Cuadros de texto: `QLineEdit`\n",
    "* `connect`\n",
    "* `sender`\n",
    "* `emit`\n",
    "* `pyqtSignal(type)`\n",
    "* `keyPressEvent()`\n",
    "* `mousePressEvent()`\n"
   ]
  },
  {
   "cell_type": "markdown",
   "metadata": {},
   "source": [
    "# <a id='11'></a> Semana 11  -          Archivos y Bytes [<<](#0) [<](#10) [>](#12)\n",
    "\n",
    "## Path\n",
    "* **Path absoluto**: Comienza con `/`. Es como partir del disco duro :D.\n",
    "* **Path relativo**: No requiere que se encuentre en directorio específico.\n",
    "\n",
    "## Alineamiento\n",
    "* Se sigue este formato:\n",
    "        \n",
    "        {variable: #e.nt}\n",
    "  \n",
    "  * `#`: Indica el alineamiento (`<`, `^`, `>`)\n",
    "  * `e`: Espacio total a cubrir.\n",
    "  * `.`: Esto es opcional\n",
    "  * `n`: depende del tipo\n",
    "  * `t`: tipo\n",
    "  \n",
    "* `Strings (*s*)`:\n",
    "    * f\"{string: <8s}\"\n",
    "    * Con esto la palabra que sea string se trunca en ocho espacios y se alínea a la izquierda.\n",
    "\n",
    "* `Integer (*d*)`:\n",
    "    * f\"{numero: >8d}\"\n",
    "* `Decimal (*f*)`:\n",
    "    * f\"{decimal: ^8.3f}\n",
    "    * Aquí se indica que da un espacio de 8, y que deja solo 3 decimales."
   ]
  },
  {
   "cell_type": "markdown",
   "metadata": {},
   "source": [
    "# <a id='12'></a> Semana 12  -          Serialización [<<](#0) [<](#11) [>](#13)"
   ]
  },
  {
   "cell_type": "markdown",
   "metadata": {},
   "source": [
    "* `__getstate__` sirve para personalizar serialización. Se hace return a un diccionario.\n",
    "* `__setstate__` sirve para persnalizar deserialización :D.\n",
    "* `json.JSONEncoder`, permite crear una serialización :D. `json.dumps(objeto, cls=Encoder)`\n",
    "\n",
    "        class Encoder(json.JSONEncoder):\n",
    "            def default(self, objeto):\n",
    "                diccionario = bla\n",
    "                \n",
    "                return diccionario\n",
    "                \n",
    "* `object_hook`: Permite personalizar deserialización"
   ]
  },
  {
   "cell_type": "markdown",
   "metadata": {},
   "source": [
    "# <a id='13'></a> Semana 13  -          Networking [<<](#0) [<](#12) [>](#14)\n",
    "\n",
    "### Socket\n",
    "Son los encargados de manejar la comunicación. Forma de implementar:\n",
    "\n",
    "        socket(family, type)\n",
    "        \n",
    "con `family` el tipo de dirección IP y `type` el protocolo.\n",
    "\n",
    "* `family`:\n",
    "    * IPv4: `AF_INET`\n",
    "    * IPv6: `AF_INET6`\n",
    "* `type`:\n",
    "    * TCP: `SOCK_STREAM`\n",
    "    * UDP: `SOCK_DGRAM`\n",
    "    \n",
    "  \n",
    "Ejemplo de *socket* TCP con IPv4."
   ]
  },
  {
   "cell_type": "code",
   "execution_count": 124,
   "metadata": {},
   "outputs": [],
   "source": [
    "import socket\n",
    "\n",
    "sock = socket.socket(socket.AF_INET, socket.SOCK_STREAM)\n",
    "\n",
    "sock.connect(('23.253.135.79', 80))\n",
    "\n",
    "sock.sendall(bytes)\n",
    "\n",
    "sock.recv(buffer)"
   ]
  },
  {
   "cell_type": "markdown",
   "metadata": {},
   "source": [
    "# <a id='14'></a> Semana 14  -          Web Service y Regex [<<](#0) [<](#13) [>](#0)"
   ]
  },
  {
   "cell_type": "markdown",
   "metadata": {},
   "source": [
    "## Web Service"
   ]
  },
  {
   "cell_type": "code",
   "execution_count": null,
   "metadata": {},
   "outputs": [],
   "source": [
    "import requests\n",
    "\n",
    "url = \"https://bla\"\n",
    "respuesta = requests.get(url, params=None)\n",
    "diccionario = respuesta.json()"
   ]
  },
  {
   "cell_type": "markdown",
   "metadata": {},
   "source": [
    "## Regular Expressions :D\n",
    "\n",
    "**Metacarácteres**:\n",
    "* `[]`especifica clases de carácteres. Por ejemplo, `[abc]` permite hacer match con los *strings* `a`, `b` o `c`. Se puede ocupar un `-`, para designar un rango, por ejemplo, `[a-p]` obtiene match con todos los carácteres desde `a` a `p`. Otro ejemplo: `[a-zA-Z0-9]`.\n",
    "* `+` indica que una expresión regular se puede repetir una o más veces. Por ejemplo: `ab+c` indica que la `b` se puede repetir una o más veces, es decir `abc`, `abbc`, `abbbc` son válidos, pero no `ac`. Uniendo esto con `[]`, `a[bc]+d` permite hacer match con *strings* que repitan uno o más veces la `b` y/o la `c`. Ejemplo: `abd`, `acd`, `abbd`, `abcd`, `acbd`, `accd`, `abbbd`, etc.\n",
    "* `*` permite indicr que una expresión regular se puede repetir cero o más veces, es decir, es similar a `+`, pero ahora permiten que el string con `*` pueda no estar :D. Por ejemplo, `ab*c` permite `abc`, `abbc`, `abbbc`, pero también `ac`.\n",
    "* `{m, n}` indica que la expresión regular definida puede repetirse entre *m* y *n* veces, inclusive. También puede ser una cantidad fija *m* para indicar exactamente *m* veces. Por ejemplo, `ab{3,5}c` permite a `abbc`, `abbbbc` y `abbbbbc`. También, `ab{2}c` permite hacer match solo con `abbc`.\n",
    "* `.` permite especificar un *match* con cualquier carácter excepto un salto de línea. Por ejemplo `.+` permite hacer match con cualquier *string* de largo mayor o igual a 1. Es como un comodin, o joker :D\n",
    "* `^` especifica la expresión de inicio del string.\n",
    "* `$` especifica la expresión de finalización del string.\n",
    "* `()` delimita una expresión regular y define grupos dentro de ella. Por ejemplo, `a(bc)*(de)f` permite hacer *match* con aquellos *strings* que que comiencen con `a`, que luego puedan repetir (o no) `bc`, que luego tengan un `de` y finalicen con una `f`, es decir: `adef`, `abcdef`, `abcbcdef`, `abcbcbcdef`, etc.\n",
    "* `A | B` operador binario que permite especificar que el *match* se puede permitir con la expresión regular *A* o *B*. Por ejemplo: `ab+c|de*f` permite `abc`, `abb`, `abbbc`, o también, `df`, `def`, `deef`, `deeef`, etc.\n",
    "* `\\` indica que los meta-carácteres deben ser considerados como parte del patrón y no como meta-carácteres."
   ]
  },
  {
   "cell_type": "markdown",
   "metadata": {},
   "source": [
    "Módulo `re` de Python para revisar *match*:\n",
    "* `re.match()` verifica si un substring cumple con la expresión regular a partir del inicio del string.\n",
    "* `re.fullmatch()` verifica si el string completo cumple con la expresión regular.\n",
    "* `re.search()` verifica si algún substring cumple con la expresión regular.\n",
    "* `re.sub()` permite reemplazar un patrón por otra secuencia de carácteres de un *string*.\n",
    "* `re.split()` permite separar un string de acuerdo a un patrón."
   ]
  },
  {
   "cell_type": "markdown",
   "metadata": {},
   "source": [
    "Que estén tod@s muy bien <3 mucho éxito, salud, y bienestar :D"
   ]
  },
  {
   "cell_type": "code",
   "execution_count": null,
   "metadata": {},
   "outputs": [],
   "source": []
  }
 ],
 "metadata": {
  "kernelspec": {
   "display_name": "Python 3",
   "language": "python",
   "name": "python3"
  },
  "language_info": {
   "codemirror_mode": {
    "name": "ipython",
    "version": 3
   },
   "file_extension": ".py",
   "mimetype": "text/x-python",
   "name": "python",
   "nbconvert_exporter": "python",
   "pygments_lexer": "ipython3",
   "version": "3.6.2"
  }
 },
 "nbformat": 4,
 "nbformat_minor": 2
}
